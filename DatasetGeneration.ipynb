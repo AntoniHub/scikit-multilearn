{
 "metadata": {
  "name": "",
  "signature": "sha256:f960fdefcc800ef877c9e59b903a0016a4176fdd4b00f68ee989c6f01f5cec4b"
 },
 "nbformat": 3,
 "nbformat_minor": 0,
 "worksheets": [
  {
   "cells": [
    {
     "cell_type": "code",
     "collapsed": false,
     "input": [
      "from skmultilearn.arffhandler import ArffHandler"
     ],
     "language": "python",
     "metadata": {},
     "outputs": [],
     "prompt_number": 4
    },
    {
     "cell_type": "code",
     "collapsed": false,
     "input": [
      "sets = {\n",
      "    'bibtex': 159,\n",
      "    'Corel5k': 374,\n",
      "    'delicious': 983,\n",
      "    'emotions': 6,\n",
      "    'enron': 53,\n",
      "    'genbase': 27,\n",
      "    'mediamill': 101,\n",
      "    'medical': 45,\n",
      "    'scene': 6,\n",
      "    'tmc2007-500': 22,\n",
      "    'yeast': 14,\n",
      "}"
     ],
     "language": "python",
     "metadata": {},
     "outputs": [],
     "prompt_number": 5
    },
    {
     "cell_type": "code",
     "collapsed": false,
     "input": [
      "for set_name in [\"scene\"]:\n",
      "    labelcount = sets[set_name]\n",
      "    base_dir = \"/home/niedakh/data/\"\n",
      "    fn = {\n",
      "        subset_name: {\n",
      "            # original\n",
      "            'o':        '{}-{}'.format(set_name, subset_name),\n",
      "            # meka\n",
      "            'm':        '{}-{}-meka'.format(set_name, subset_name),\n",
      "            # level1\n",
      "            'l1':       '{}-{}-meka-level1'.format(set_name, subset_name),\n",
      "            # level2\n",
      "            'l2':       '{}-{}-meka-level2-cluster'.format(set_name, subset_name),\n",
      "        }\n",
      "        for subset_name in [\"train\", \"test\"]\n",
      "    }\n",
      "    file_name = base_dir+set_name+\"/{}.arff\"\n",
      "    save_file = \"data/{}.dump\"\n",
      "    \n",
      "    a,b=ArffHandler.load_arff_to_numpy(file_name.format(fn['train']['m']), labelcount, \"big\")\n",
      "    ArffHandler.save_dataset_dump(save_file.format(fn['train']['o']), a, b)\n",
      "    \n",
      "    a,b=ArffHandler.load_arff_to_numpy(file_name.format(fn['test']['m']), labelcount, \"big\")\n",
      "    ArffHandler.save_dataset_dump(save_file.format(fn['test']['o']), a, b) "
     ],
     "language": "python",
     "metadata": {},
     "outputs": [],
     "prompt_number": 13
    },
    {
     "cell_type": "code",
     "collapsed": false,
     "input": [],
     "language": "python",
     "metadata": {},
     "outputs": []
    }
   ],
   "metadata": {}
  }
 ]
}