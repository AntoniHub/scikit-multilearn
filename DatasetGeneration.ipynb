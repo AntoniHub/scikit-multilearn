{
 "metadata": {
  "name": "",
  "signature": "sha256:6159c6018cd1d97de685e629073d42562c7acf9826d7dbf82fff2bfa40a7c19e"
 },
 "nbformat": 3,
 "nbformat_minor": 0,
 "worksheets": [
  {
   "cells": [
    {
     "cell_type": "code",
     "collapsed": false,
     "input": [
      "from skmultilearn.dataset import Dataset"
     ],
     "language": "python",
     "metadata": {},
     "outputs": [],
     "prompt_number": 7
    },
    {
     "cell_type": "code",
     "collapsed": false,
     "input": [
      "sets = {\n",
      "    'bibtex': [159, 'i8'],\n",
      "    'Corel5k': [374, 'i8'],\n",
      "    'delicious': [983, 'i8'],\n",
      "    'emotions': [6, 'float_'],\n",
      "    'enron': [53, 'i8'],\n",
      "#    'genbase': [27, 'i8'],\n",
      "    'mediamill': [101, 'float_'],\n",
      "    'medical': [45, 'i8'],\n",
      "    'scene': [6, 'float_'],\n",
      "    'tmc2007-500': [22, 'i8'],\n",
      "    'yeast': [14, 'float_'],\n",
      "}"
     ],
     "language": "python",
     "metadata": {},
     "outputs": [],
     "prompt_number": 9
    },
    {
     "cell_type": "code",
     "collapsed": false,
     "input": [
      "for set_name in sets:\n",
      "    labelcount = sets[set_name][0]\n",
      "    feature_type = sets[set_name][1]\n",
      "    base_dir = \"/home/niedakh/data/\"\n",
      "    fn = {\n",
      "        subset_name: {\n",
      "            # original\n",
      "            'o':        '{}-{}'.format(set_name, subset_name),\n",
      "            # meka\n",
      "            'm':        '{}-{}-meka'.format(set_name, subset_name),\n",
      "            # level1\n",
      "            'l1':       '{}-{}-meka-level1'.format(set_name, subset_name),\n",
      "            # level2\n",
      "            'l2':       '{}-{}-meka-level2-cluster'.format(set_name, subset_name),\n",
      "        }\n",
      "        for subset_name in [\"train\", \"test\"]\n",
      "    }\n",
      "    file_name = base_dir+set_name+\"/{}.arff\"\n",
      "    save_file = \"data/{}.dump\"\n",
      "    \n",
      "    a,b=Dataset.load_arff_to_numpy(file_name.format(fn['train']['m']), labelcount, \"big\", feature_type)\n",
      "    Dataset.save_dataset_dump(save_file.format(fn['train']['o']), a, b)\n",
      "    \n",
      "    a,b=Dataset.load_arff_to_numpy(file_name.format(fn['test']['m']), labelcount, \"big\", feature_type)\n",
      "    Dataset.save_dataset_dump(save_file.format(fn['test']['o']), a, b) "
     ],
     "language": "python",
     "metadata": {},
     "outputs": []
    },
    {
     "cell_type": "code",
     "collapsed": false,
     "input": [
      "np.array([[1, 2, 3],[3,4]])"
     ],
     "language": "python",
     "metadata": {},
     "outputs": [
      {
       "metadata": {},
       "output_type": "pyout",
       "prompt_number": 6,
       "text": [
        "array([[1, 2, 3], [3, 4]], dtype=object)"
       ]
      }
     ],
     "prompt_number": 6
    },
    {
     "cell_type": "code",
     "collapsed": false,
     "input": [],
     "language": "python",
     "metadata": {},
     "outputs": []
    }
   ],
   "metadata": {}
  }
 ]
}